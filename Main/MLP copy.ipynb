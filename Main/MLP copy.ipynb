{
 "cells": [
  {
   "cell_type": "code",
   "execution_count": 1,
   "metadata": {},
   "outputs": [],
   "source": [
    "from flask import Flask, render_template, request\n",
    "import pandas as pd\n",
    "import torch\n",
    "import sys\n",
    "import sys\n",
    "import torch.nn as nn\n",
    "from torch.utils.data import DataLoader, Dataset\n",
    "device = torch.device('cuda' if torch.cuda.is_available() else 'cpu')\n",
    "\n",
    "import torch\n",
    "import torch.nn as nn\n",
    "import torch.nn.functional as F\n",
    "from sklearn import preprocessing\n",
    "from torch.utils.data import Dataset, TensorDataset, DataLoader"
   ]
  },
  {
   "cell_type": "code",
   "execution_count": 2,
   "metadata": {},
   "outputs": [],
   "source": [
    "ratings_cols = ['UserID', 'MovieID', 'Rating', 'Timestamp']\n",
    "ratings = pd.read_csv('./ml-1m/ml-1m/ratings.dat', sep='::', engine='python', names=ratings_cols)\n",
    "\n",
    "num_users = ratings.UserID.unique().shape[0]\n",
    "num_items = ratings.MovieID.unique().shape[0]\n",
    "#print('no. users: %d, no. items: %d' %(num_users, num_items))\n",
    "\n",
    "class CustomDataset(Dataset):\n",
    "    def __init__(self, users, items, y):\n",
    "        self.x = torch.cat([\n",
    "            torch.LongTensor(users).unsqueeze(0).transpose(0, 1),\n",
    "            torch.LongTensor(items).unsqueeze(0).transpose(0, 1)\n",
    "        ], axis=1)\n",
    "        self.y = torch.FloatTensor(y)\n",
    "\n",
    "    def __getitem__(self, index):\n",
    "        return self.x[index], self.y[index]\n",
    "\n",
    "    def __len__(self):\n",
    "        return len(self.y)"
   ]
  },
  {
   "cell_type": "code",
   "execution_count": 3,
   "metadata": {},
   "outputs": [],
   "source": [
    "le1 = preprocessing.LabelEncoder()\n",
    "le2 = preprocessing.LabelEncoder()"
   ]
  },
  {
   "cell_type": "code",
   "execution_count": 4,
   "metadata": {},
   "outputs": [],
   "source": [
    "batch_size = 256\n",
    "\n",
    "train_dataset = CustomDataset(\n",
    "    le1.fit_transform(ratings.UserID),\n",
    "    le2.fit_transform(ratings.MovieID),\n",
    "    ratings.Rating.values\n",
    ")\n",
    "train_loader = DataLoader(train_dataset, batch_size=batch_size)"
   ]
  },
  {
   "cell_type": "code",
   "execution_count": 5,
   "metadata": {},
   "outputs": [],
   "source": [
    "# Define the NCF model\n",
    "class NCF(nn.Module):\n",
    "    def __init__(self, num_users, num_items, emb_size=128, hidden_size=256):\n",
    "        super(NCF, self).__init__()\n",
    "        self.user_emb = nn.Embedding(num_users, emb_size)\n",
    "        self.item_emb = nn.Embedding(num_items, emb_size)\n",
    "        self.mlp = nn.Sequential(\n",
    "            nn.Linear(emb_size * 2, hidden_size),\n",
    "            nn.ReLU(),\n",
    "            nn.Linear(hidden_size, hidden_size),\n",
    "            nn.ReLU(),\n",
    "            nn.Linear(hidden_size, 1)\n",
    "        )\n",
    "        self.user_emb.weight.data.uniform_(0, 0.05)\n",
    "        self.item_emb.weight.data.uniform_(0, 0.05)\n",
    "\n",
    "    def forward(self, data):\n",
    "        x, y = data[:, :1], data[:, 1:]\n",
    "        u, v = self.user_emb(x), self.item_emb(y)\n",
    "        uv = torch.cat((u, v), dim=1)\n",
    "        return self.mlp(uv.view(uv.size(0), -1)).squeeze()"
   ]
  },
  {
   "cell_type": "code",
   "execution_count": 6,
   "metadata": {},
   "outputs": [],
   "source": [
    "model = NCF(num_users, num_items, emb_size=256, hidden_size=256).to(device)"
   ]
  },
  {
   "cell_type": "code",
   "execution_count": null,
   "metadata": {},
   "outputs": [],
   "source": []
  },
  {
   "cell_type": "code",
   "execution_count": 7,
   "metadata": {},
   "outputs": [],
   "source": [
    "learning_rate = 0.001\n",
    "optimizer = torch.optim.Adam(model.parameters(), lr=learning_rate)\n",
    "loss_fn = torch.nn.MSELoss()"
   ]
  },
  {
   "cell_type": "code",
   "execution_count": 8,
   "metadata": {},
   "outputs": [],
   "source": [
    "model.eval()\n",
    "\n",
    "ratings['le_UserID'] = le1.transform(ratings.UserID)\n",
    "ratings['le_MovieID'] = le1.transform(ratings.MovieID)"
   ]
  },
  {
   "cell_type": "code",
   "execution_count": 9,
   "metadata": {},
   "outputs": [
    {
     "data": {
      "text/plain": [
       "<All keys matched successfully>"
      ]
     },
     "execution_count": 9,
     "metadata": {},
     "output_type": "execute_result"
    }
   ],
   "source": [
    "model.load_state_dict(torch.load('model_weights.pth'))"
   ]
  },
  {
   "cell_type": "code",
   "execution_count": 12,
   "metadata": {},
   "outputs": [],
   "source": [
    "class TopNCF:\n",
    "    def __init__(self, model, user_encoder, movie_encoder, movie_dataset):\n",
    "        self.model = model\n",
    "        self.user_encoder = user_encoder\n",
    "        self.movie_encoder = movie_encoder\n",
    "        self.movie_dataset = movie_dataset\n",
    "\n",
    "    def recommend_movies(self, user_id, top_k=10):\n",
    "        user_tensor = torch.LongTensor([self.user_encoder.transform([user_id])[0]]).to(device)\n",
    "        movie_tensor = torch.LongTensor(range(self.movie_encoder.classes_.shape[0])).to(device)\n",
    "\n",
    "        user_tensor = user_tensor.repeat(len(movie_tensor), 1)\n",
    "\n",
    "        data = torch.cat((user_tensor, movie_tensor.unsqueeze(1)), dim=1)\n",
    "        predictions = self.model(data).detach().cpu().numpy()\n",
    "\n",
    "        top_indices = predictions.argsort(axis=0)[-top_k:][::-1]\n",
    "        top_movie_ids = self.movie_encoder.classes_[top_indices]\n",
    "\n",
    "        return top_movie_ids.tolist()\n",
    "\n",
    "    def get_top_movies(self, user_id, top_k=10):\n",
    "        top_movie_ids = self.recommend_movies(user_id, top_k)\n",
    "        return top_movie_ids\n",
    "\n"
   ]
  },
  {
   "cell_type": "code",
   "execution_count": 13,
   "metadata": {},
   "outputs": [
    {
     "name": "stdout",
     "output_type": "stream",
     "text": [
      "[2308, 490, 3916, 3112, 263, 178, 341, 2885, 1709, 3874]\n"
     ]
    }
   ],
   "source": [
    "# Load the movies dataset from a .dat file into a pandas DataFrame\n",
    "movies_cols = ['MovieID', 'Title', 'Genres']\n",
    "movies_df = pd.read_csv('./ml-1m/ml-1m/movies.dat', sep='::', engine='python', names=movies_cols, encoding='latin-1')\n",
    "\n",
    "# Assuming the movies dataset has columns ['MovieID', 'Title']\n",
    "movie_dataset = movies_df[['MovieID', 'Title']]\n",
    "\n",
    "# Usage example\n",
    "# Usage example\n",
    "top_ncf = TopNCF(model, le1, le2, movie_dataset)\n",
    "user_id = 10\n",
    "top_movies = top_ncf.get_top_movies(user_id, top_k=10)\n",
    "print(top_movies)\n"
   ]
  }
 ],
 "metadata": {
  "kernelspec": {
   "display_name": "Python 3",
   "language": "python",
   "name": "python3"
  },
  "language_info": {
   "codemirror_mode": {
    "name": "ipython",
    "version": 3
   },
   "file_extension": ".py",
   "mimetype": "text/x-python",
   "name": "python",
   "nbconvert_exporter": "python",
   "pygments_lexer": "ipython3",
   "version": "3.10.0"
  }
 },
 "nbformat": 4,
 "nbformat_minor": 4
}
