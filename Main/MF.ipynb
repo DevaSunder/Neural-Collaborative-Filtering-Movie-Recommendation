{
 "cells": [
  {
   "cell_type": "code",
   "execution_count": 1,
   "metadata": {},
   "outputs": [],
   "source": [
    "import pandas as pd\n",
    "import numpy as np\n",
    "\n",
    "import os\n",
    "import glob\n",
    "from datetime import date\n",
    "import logging\n",
    "\n",
    "import torch\n",
    "import torch.nn as nn\n",
    "import torch.nn.functional as F"
   ]
  },
  {
   "cell_type": "code",
   "execution_count": 2,
   "metadata": {},
   "outputs": [
    {
     "data": {
      "text/html": [
       "<div>\n",
       "<style scoped>\n",
       "    .dataframe tbody tr th:only-of-type {\n",
       "        vertical-align: middle;\n",
       "    }\n",
       "\n",
       "    .dataframe tbody tr th {\n",
       "        vertical-align: top;\n",
       "    }\n",
       "\n",
       "    .dataframe thead th {\n",
       "        text-align: right;\n",
       "    }\n",
       "</style>\n",
       "<table border=\"1\" class=\"dataframe\">\n",
       "  <thead>\n",
       "    <tr style=\"text-align: right;\">\n",
       "      <th></th>\n",
       "      <th>1::1193::5::978300760</th>\n",
       "    </tr>\n",
       "  </thead>\n",
       "  <tbody>\n",
       "    <tr>\n",
       "      <th>0</th>\n",
       "      <td>1::661::3::978302109</td>\n",
       "    </tr>\n",
       "    <tr>\n",
       "      <th>1</th>\n",
       "      <td>1::914::3::978301968</td>\n",
       "    </tr>\n",
       "    <tr>\n",
       "      <th>2</th>\n",
       "      <td>1::3408::4::978300275</td>\n",
       "    </tr>\n",
       "    <tr>\n",
       "      <th>3</th>\n",
       "      <td>1::2355::5::978824291</td>\n",
       "    </tr>\n",
       "    <tr>\n",
       "      <th>4</th>\n",
       "      <td>1::1197::3::978302268</td>\n",
       "    </tr>\n",
       "  </tbody>\n",
       "</table>\n",
       "</div>"
      ],
      "text/plain": [
       "   1::1193::5::978300760\n",
       "0   1::661::3::978302109\n",
       "1   1::914::3::978301968\n",
       "2  1::3408::4::978300275\n",
       "3  1::2355::5::978824291\n",
       "4  1::1197::3::978302268"
      ]
     },
     "execution_count": 2,
     "metadata": {},
     "output_type": "execute_result"
    }
   ],
   "source": [
    "\n",
    "log_model = 'nmf'\n",
    "\n",
    "today = date.today()\n",
    "log_formatter = logging.Formatter(\"%(asctime)s %(message)s\")\n",
    "logger = logging.getLogger()\n",
    "\n",
    "log_file_name = \"./logs/{}_{}\".format(today, log_model)\n",
    "\n",
    "file_handler = logging.FileHandler(\"{}.log\".format(log_file_name))\n",
    "file_handler.setFormatter(log_formatter)\n",
    "logger.addHandler(file_handler)\n",
    "logger.setLevel(logging.DEBUG)\n",
    "pd.read_csv('./ml-1m/ml-1m/ratings.dat').head()\n"
   ]
  },
  {
   "cell_type": "code",
   "execution_count": 3,
   "metadata": {},
   "outputs": [
    {
     "name": "stdout",
     "output_type": "stream",
     "text": [
      "no. users: 6040, no. items: 3706\n"
     ]
    }
   ],
   "source": [
    "ratings_cols = ['UserID', 'MovieID', 'Rating', 'Timestamp']\n",
    "ratings = pd.read_csv('./ml-1m/ml-1m/ratings.dat', sep='::', engine='python', names=ratings_cols)\n",
    "ratings\n",
    "\n",
    "num_users = ratings.UserID.unique().shape[0]\n",
    "num_items = ratings.MovieID.unique().shape[0]\n",
    "print('no. users: %d, no. items: %d' %(num_users, num_items))"
   ]
  },
  {
   "cell_type": "code",
   "execution_count": 4,
   "metadata": {},
   "outputs": [],
   "source": [
    "\n",
    "from torch.utils.data import Dataset, TensorDataset, DataLoader\n",
    "\n",
    "class CustomDataset(Dataset):\n",
    "    def __init__(self, users, items, y):\n",
    "        self.x = torch.cat([\n",
    "            torch.LongTensor(users).unsqueeze(0).transpose(0, 1),\n",
    "            torch.LongTensor(items).unsqueeze(0).transpose(0, 1)\n",
    "        ], axis=1)\n",
    "        self.y = torch.FloatTensor(y)\n",
    "\n",
    "    def __getitem__(self, index):\n",
    "        return self.x[index], self.y[index]\n",
    "\n",
    "    def __len__(self):\n",
    "        return len(self.y)"
   ]
  },
  {
   "cell_type": "code",
   "execution_count": 5,
   "metadata": {},
   "outputs": [],
   "source": [
    "\n",
    "\n",
    "from sklearn import preprocessing\n",
    "le1 = preprocessing.LabelEncoder()\n",
    "le2 = preprocessing.LabelEncoder()\n",
    "\n",
    "batch_size = 256\n",
    "\n",
    "train_dataset = CustomDataset(\n",
    "    le1.fit_transform(ratings.UserID),\n",
    "    le2.fit_transform(ratings.MovieID),\n",
    "    ratings.Rating.values\n",
    ")\n",
    "train_loader = DataLoader(train_dataset, batch_size=batch_size)"
   ]
  },
  {
   "cell_type": "code",
   "execution_count": 6,
   "metadata": {},
   "outputs": [],
   "source": [
    "\n",
    "class MF(nn.Module):\n",
    "    def __init__(self, num_users, num_items, emb_size=128):\n",
    "        super(MF, self).__init__()\n",
    "        self.user_emb = nn.Embedding(num_users, emb_size)\n",
    "        self.item_emb = nn.Embedding(num_items, emb_size)\n",
    "        self.user_emb.weight.data.uniform_(0, 0.05)\n",
    "        self.item_emb.weight.data.uniform_(0, 0.05)\n",
    "        \n",
    "    def forward(self, data):\n",
    "        x, y = data[:,:1], data[:,1:]\n",
    "        u, v = self.user_emb(x), self.item_emb(y)\n",
    "        return (u.squeeze(1) * v.squeeze(1)).sum(1)\n"
   ]
  },
  {
   "cell_type": "code",
   "execution_count": 7,
   "metadata": {},
   "outputs": [
    {
     "name": "stdout",
     "output_type": "stream",
     "text": [
      "Device : cuda\n"
     ]
    }
   ],
   "source": [
    "\n",
    "if torch.cuda.is_available():\n",
    "    device = 'cuda'\n",
    "else:\n",
    "    device = 'cpu'\n",
    "\n",
    "print('Device : %s' % device)"
   ]
  },
  {
   "cell_type": "code",
   "execution_count": 8,
   "metadata": {},
   "outputs": [
    {
     "name": "stdout",
     "output_type": "stream",
     "text": [
      "MODEL:\n",
      "\n",
      " MF(\n",
      "  (user_emb): Embedding(6040, 128)\n",
      "  (item_emb): Embedding(3706, 128)\n",
      ")\n"
     ]
    },
    {
     "data": {
      "text/plain": [
       "MF(\n",
       "  (user_emb): Embedding(6040, 128)\n",
       "  (item_emb): Embedding(3706, 128)\n",
       ")"
      ]
     },
     "execution_count": 8,
     "metadata": {},
     "output_type": "execute_result"
    }
   ],
   "source": [
    "model = MF(num_users, num_items, emb_size=128).to(device)\n",
    "print('MODEL:\\n\\n', model)\n",
    "\n",
    "## optimizer, learning rate,  loss function을 설정\n",
    "batch_size = 128\n",
    "learning_rate = 0.0005\n",
    "train_loader = DataLoader(train_dataset, batch_size=batch_size, shuffle=True)\n",
    "optimizer = torch.optim.Adam(model.parameters(), lr=learning_rate)\n",
    "loss_fn = torch.nn.MSELoss()\n",
    "\n",
    "model.train()"
   ]
  },
  {
   "cell_type": "code",
   "execution_count": 101,
   "metadata": {},
   "outputs": [
    {
     "name": "stdout",
     "output_type": "stream",
     "text": [
      "start : 0 epoch\n",
      "e1: loss: 8.820590301183984e-05\n",
      "start : 1 epoch\n",
      "e2: loss: 0.000125005841255188\n",
      "start : 2 epoch\n",
      "e3: loss: 7.351280510192737e-05\n",
      "start : 3 epoch\n",
      "e4: loss: 6.227856647456065e-05\n",
      "start : 4 epoch\n",
      "e5: loss: 2.1203024516580626e-05\n",
      "start : 5 epoch\n",
      "e6: loss: 1.811356924008578e-05\n",
      "start : 6 epoch\n",
      "e7: loss: 2.495392800483387e-05\n",
      "start : 7 epoch\n",
      "e8: loss: 1.6609546946710907e-05\n",
      "start : 8 epoch\n",
      "e9: loss: 2.148180647054687e-05\n",
      "start : 9 epoch\n",
      "e10: loss: 1.645660995563958e-05\n",
      "start : 10 epoch\n",
      "e11: loss: 1.1157949302287307e-05\n",
      "start : 11 epoch\n",
      "e12: loss: 2.0137691535637714e-05\n",
      "start : 12 epoch\n",
      "e13: loss: 1.1393317436159123e-05\n",
      "start : 13 epoch\n",
      "e14: loss: 1.1999186426692177e-05\n",
      "start : 14 epoch\n",
      "e15: loss: 1.1303659448458347e-05\n",
      "start : 15 epoch\n",
      "e16: loss: 2.3687256543780677e-05\n",
      "start : 16 epoch\n",
      "e17: loss: 1.3061499885225203e-05\n",
      "start : 17 epoch\n",
      "e18: loss: 1.1610450201260392e-05\n",
      "start : 18 epoch\n",
      "e19: loss: 1.4820739124843385e-05\n",
      "start : 19 epoch\n",
      "e20: loss: 2.697329910006374e-05\n",
      "training complete\n"
     ]
    }
   ],
   "source": [
    "EPOCHS = 20\n",
    "\n",
    "for e in range(EPOCHS):\n",
    "    print('start : ' + str(e) + ' epoch')\n",
    "    avg_loss = 0\n",
    "    for batch_idx, (x, y) in enumerate(train_loader):\n",
    "        x, y = x.to(device), y.to(device)\n",
    "        optimizer.zero_grad()\n",
    "        y_hat = model(x)\n",
    "        loss = loss_fn(y_hat, y)\n",
    "        avg_loss += loss.item()\n",
    "        loss.backward()\n",
    "        optimizer.step()\n",
    "    torch.save(model.state_dict(), \"./weights/{}_{}.pt\".format(log_model, e + 1))\n",
    "    print(\"e{}: loss: {}\".format(e + 1, loss / (batch_idx + 1)))\n",
    "    logger.info(\"e{}: loss: {}\".format(e + 1, loss / (batch_idx + 1)))\n",
    "print('training complete')\n"
   ]
  },
  {
   "cell_type": "code",
   "execution_count": 11,
   "metadata": {},
   "outputs": [
    {
     "data": {
      "text/plain": [
       "MF(\n",
       "  (user_emb): Embedding(6040, 128)\n",
       "  (item_emb): Embedding(3706, 128)\n",
       ")"
      ]
     },
     "execution_count": 11,
     "metadata": {},
     "output_type": "execute_result"
    }
   ],
   "source": [
    "model.eval()"
   ]
  },
  {
   "cell_type": "code",
   "execution_count": 12,
   "metadata": {},
   "outputs": [],
   "source": [
    "ratings['le_UserID'] = le1.fit_transform(ratings.UserID)\n",
    "ratings['le_MovieID'] = le1.fit_transform(ratings.MovieID)"
   ]
  },
  {
   "cell_type": "code",
   "execution_count": 13,
   "metadata": {},
   "outputs": [],
   "source": [
    "val_tensor = torch.LongTensor(ratings[['le_UserID', 'le_MovieID']].values).to(device)\n",
    "pred = model(torch.LongTensor(ratings[['le_UserID', 'le_MovieID']].values).to(device))"
   ]
  },
  {
   "cell_type": "code",
   "execution_count": 14,
   "metadata": {},
   "outputs": [],
   "source": [
    "ratings['pred_Rating'] = pred.to('cpu').detach().numpy()"
   ]
  }
 ],
 "metadata": {
  "kernelspec": {
   "display_name": "Python 3",
   "language": "python",
   "name": "python3"
  },
  "language_info": {
   "codemirror_mode": {
    "name": "ipython",
    "version": 3
   },
   "file_extension": ".py",
   "mimetype": "text/x-python",
   "name": "python",
   "nbconvert_exporter": "python",
   "pygments_lexer": "ipython3",
   "version": "3.10.0"
  }
 },
 "nbformat": 4,
 "nbformat_minor": 4
}
